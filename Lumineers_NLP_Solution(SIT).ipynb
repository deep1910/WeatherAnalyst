{
 "cells": [
  {
   "cell_type": "markdown",
   "metadata": {
    "id": "QNRz6AvMhrKE"
   },
   "source": [
    "By me:\n",
    "Deep Pande"
   ]
  },
  {
   "cell_type": "code",
   "execution_count": 2,
   "metadata": {
    "id": "nIwDJJJKKrf5"
   },
   "outputs": [],
   "source": [
    "import pandas as pd\n",
    "import numpy as np"
   ]
  },
  {
   "cell_type": "code",
   "execution_count": 3,
   "metadata": {
    "id": "hQ2sSSnjKwh9"
   },
   "outputs": [],
   "source": [
    "tornado_data = pd.read_csv(\"https://raw.githubusercontent.com/Dong-UTIL/Natural-Hazards-Twitter-Dataset/master/2011Tornado_Summary.csv\")\n",
    "Sandy_data = pd.read_csv(\"https://raw.githubusercontent.com/Dong-UTIL/Natural-Hazards-Twitter-Dataset/master/2012Sandy_Summary.csv\")\n",
    "floods_data = pd.read_csv(\"https://raw.githubusercontent.com/Dong-UTIL/Natural-Hazards-Twitter-Dataset/master/2013Floods_Summary.csv\")\n",
    "blizzard_data = pd.read_csv(\"https://raw.githubusercontent.com/Dong-UTIL/Natural-Hazards-Twitter-Dataset/master/2016Blizzard_Summary.csv\")\n",
    "mathew_data = pd.read_csv(\"https://raw.githubusercontent.com/Dong-UTIL/Natural-Hazards-Twitter-Dataset/master/2016Matthew_Summary.csv\")\n",
    "hurricane_data = pd.read_csv(\"https://raw.githubusercontent.com/Dong-UTIL/Natural-Hazards-Twitter-Dataset/master/2017Hurricane_Summary.csv\")\n",
    "michael_data = pd.read_csv(\"https://raw.githubusercontent.com/Dong-UTIL/Natural-Hazards-Twitter-Dataset/master/2018Michael_Summary.csv\")\n",
    "wildfires_data = pd.read_csv(\"https://raw.githubusercontent.com/Dong-UTIL/Natural-Hazards-Twitter-Dataset/master/2018Wildfires_Summary.csv\")\n",
    "dorian_data = pd.read_csv(\"https://raw.githubusercontent.com/Dong-UTIL/Natural-Hazards-Twitter-Dataset/master/2019Dorian_Summary.csv\")"
   ]
  },
  {
   "cell_type": "code",
   "execution_count": 4,
   "metadata": {
    "colab": {
     "base_uri": "https://localhost:8080/",
     "height": 206
    },
    "id": "Hq63DWkpMI0O",
    "outputId": "555a206d-facd-405d-ec43-86b2ee3204dd",
    "scrolled": true
   },
   "outputs": [
    {
     "data": {
      "text/html": [
       "<div>\n",
       "<style scoped>\n",
       "    .dataframe tbody tr th:only-of-type {\n",
       "        vertical-align: middle;\n",
       "    }\n",
       "\n",
       "    .dataframe tbody tr th {\n",
       "        vertical-align: top;\n",
       "    }\n",
       "\n",
       "    .dataframe thead th {\n",
       "        text-align: right;\n",
       "    }\n",
       "</style>\n",
       "<table border=\"1\" class=\"dataframe\">\n",
       "  <thead>\n",
       "    <tr style=\"text-align: right;\">\n",
       "      <th></th>\n",
       "      <th>num</th>\n",
       "      <th>text</th>\n",
       "      <th>timestamp</th>\n",
       "      <th>label</th>\n",
       "    </tr>\n",
       "  </thead>\n",
       "  <tbody>\n",
       "    <tr>\n",
       "      <th>3567</th>\n",
       "      <td>39</td>\n",
       "      <td>Thanks to @BarackObama and @SethMeyers21 for m...</td>\n",
       "      <td>40664.134028</td>\n",
       "      <td>0</td>\n",
       "    </tr>\n",
       "    <tr>\n",
       "      <th>3568</th>\n",
       "      <td>0</td>\n",
       "      <td>Stamford-based AmeriCares is preparing to send...</td>\n",
       "      <td>40663.670139</td>\n",
       "      <td>0</td>\n",
       "    </tr>\n",
       "    <tr>\n",
       "      <th>3569</th>\n",
       "      <td>2</td>\n",
       "      <td>Semi-trailer parked at People's Church Spring ...</td>\n",
       "      <td>40662.943750</td>\n",
       "      <td>0</td>\n",
       "    </tr>\n",
       "    <tr>\n",
       "      <th>3570</th>\n",
       "      <td>3</td>\n",
       "      <td>RT @TopNoTcH_B1tch: My mom is goin out of town...</td>\n",
       "      <td>40662.732639</td>\n",
       "      <td>0</td>\n",
       "    </tr>\n",
       "    <tr>\n",
       "      <th>3571</th>\n",
       "      <td>6</td>\n",
       "      <td>Volunteers Offer Support to Southern Tornado V...</td>\n",
       "      <td>40664.518056</td>\n",
       "      <td>0</td>\n",
       "    </tr>\n",
       "  </tbody>\n",
       "</table>\n",
       "</div>"
      ],
      "text/plain": [
       "      num                                               text     timestamp  \\\n",
       "3567   39  Thanks to @BarackObama and @SethMeyers21 for m...  40664.134028   \n",
       "3568    0  Stamford-based AmeriCares is preparing to send...  40663.670139   \n",
       "3569    2  Semi-trailer parked at People's Church Spring ...  40662.943750   \n",
       "3570    3  RT @TopNoTcH_B1tch: My mom is goin out of town...  40662.732639   \n",
       "3571    6  Volunteers Offer Support to Southern Tornado V...  40664.518056   \n",
       "\n",
       "      label  \n",
       "3567      0  \n",
       "3568      0  \n",
       "3569      0  \n",
       "3570      0  \n",
       "3571      0  "
      ]
     },
     "execution_count": 4,
     "metadata": {},
     "output_type": "execute_result"
    }
   ],
   "source": [
    "tornado_data.tail()"
   ]
  },
  {
   "cell_type": "code",
   "execution_count": 5,
   "metadata": {
    "id": "81zmntpHMOBc"
   },
   "outputs": [],
   "source": [
    "tornado_data[\"label\"] = tornado_data['label'].replace(to_replace = 1, value = \"Tornado\")\n",
    "tornado_data[\"label\"] = tornado_data['label'].replace(to_replace = 0, value = \"Normal\")"
   ]
  },
  {
   "cell_type": "code",
   "execution_count": 6,
   "metadata": {
    "colab": {
     "base_uri": "https://localhost:8080/",
     "height": 206
    },
    "id": "Lco9BJo2XBzd",
    "outputId": "c96d0142-ce4b-4ed4-98f5-1c5a7dbf9524"
   },
   "outputs": [
    {
     "data": {
      "text/html": [
       "<div>\n",
       "<style scoped>\n",
       "    .dataframe tbody tr th:only-of-type {\n",
       "        vertical-align: middle;\n",
       "    }\n",
       "\n",
       "    .dataframe tbody tr th {\n",
       "        vertical-align: top;\n",
       "    }\n",
       "\n",
       "    .dataframe thead th {\n",
       "        text-align: right;\n",
       "    }\n",
       "</style>\n",
       "<table border=\"1\" class=\"dataframe\">\n",
       "  <thead>\n",
       "    <tr style=\"text-align: right;\">\n",
       "      <th></th>\n",
       "      <th>num</th>\n",
       "      <th>text</th>\n",
       "      <th>timestamp</th>\n",
       "      <th>label</th>\n",
       "    </tr>\n",
       "  </thead>\n",
       "  <tbody>\n",
       "    <tr>\n",
       "      <th>0</th>\n",
       "      <td>0</td>\n",
       "      <td>RT @uberdogfound: Please RT - Food needed for ...</td>\n",
       "      <td>40657.975000</td>\n",
       "      <td>Tornado</td>\n",
       "    </tr>\n",
       "    <tr>\n",
       "      <th>1</th>\n",
       "      <td>1</td>\n",
       "      <td>Please RT - Food needed for shelter in NC in a...</td>\n",
       "      <td>40657.975000</td>\n",
       "      <td>Tornado</td>\n",
       "    </tr>\n",
       "    <tr>\n",
       "      <th>2</th>\n",
       "      <td>3</td>\n",
       "      <td>‚ô°its raining and tornado warnings....about t...</td>\n",
       "      <td>40657.897917</td>\n",
       "      <td>Tornado</td>\n",
       "    </tr>\n",
       "    <tr>\n",
       "      <th>3</th>\n",
       "      <td>9</td>\n",
       "      <td>Lmao #damn RT @LuCeCaNNoNn: If I don't get any...</td>\n",
       "      <td>40657.766667</td>\n",
       "      <td>Tornado</td>\n",
       "    </tr>\n",
       "    <tr>\n",
       "      <th>4</th>\n",
       "      <td>10</td>\n",
       "      <td>Saved by the tornado warning....I'm just ready...</td>\n",
       "      <td>40657.756250</td>\n",
       "      <td>Normal</td>\n",
       "    </tr>\n",
       "  </tbody>\n",
       "</table>\n",
       "</div>"
      ],
      "text/plain": [
       "   num                                               text     timestamp  \\\n",
       "0    0  RT @uberdogfound: Please RT - Food needed for ...  40657.975000   \n",
       "1    1  Please RT - Food needed for shelter in NC in a...  40657.975000   \n",
       "2    3  ‚ô°its raining and tornado warnings....about t...  40657.897917   \n",
       "3    9  Lmao #damn RT @LuCeCaNNoNn: If I don't get any...  40657.766667   \n",
       "4   10  Saved by the tornado warning....I'm just ready...  40657.756250   \n",
       "\n",
       "     label  \n",
       "0  Tornado  \n",
       "1  Tornado  \n",
       "2  Tornado  \n",
       "3  Tornado  \n",
       "4   Normal  "
      ]
     },
     "execution_count": 6,
     "metadata": {},
     "output_type": "execute_result"
    }
   ],
   "source": [
    "tornado_data.head()"
   ]
  },
  {
   "cell_type": "code",
   "execution_count": 7,
   "metadata": {
    "id": "R8mItPHlYEF8"
   },
   "outputs": [],
   "source": [
    "Sandy_data[\"label\"] = Sandy_data['label'].replace(to_replace = 1, value = \"Sandy\")\n",
    "Sandy_data[\"label\"] = Sandy_data['label'].replace(to_replace = 0, value = \"Normal\")"
   ]
  },
  {
   "cell_type": "code",
   "execution_count": 8,
   "metadata": {
    "id": "vQ2UnCglYQyM"
   },
   "outputs": [],
   "source": [
    "floods_data[\"label\"] = floods_data['label'].replace(to_replace = 1, value = \"Floods\")\n",
    "floods_data[\"label\"] = floods_data['label'].replace(to_replace = 0, value = \"Normal\")"
   ]
  },
  {
   "cell_type": "code",
   "execution_count": 9,
   "metadata": {
    "id": "y2XGXBn-YcBd"
   },
   "outputs": [],
   "source": [
    "blizzard_data[\"label\"] = blizzard_data['label'].replace(to_replace = 1, value = \"Blizzard\")\n",
    "blizzard_data[\"label\"] = blizzard_data['label'].replace(to_replace = 0, value = \"Normal\")"
   ]
  },
  {
   "cell_type": "code",
   "execution_count": 10,
   "metadata": {
    "id": "O_3JbDuZYmE-"
   },
   "outputs": [],
   "source": [
    "mathew_data[\"label\"] = mathew_data['label'].replace(to_replace = 1, value = \"Mathew\")\n",
    "mathew_data[\"label\"] = mathew_data['label'].replace(to_replace = 0, value = \"Normal\")"
   ]
  },
  {
   "cell_type": "code",
   "execution_count": 11,
   "metadata": {
    "id": "iGt1bMq5YvHR"
   },
   "outputs": [],
   "source": [
    "hurricane_data[\"label\"] = hurricane_data['label'].replace(to_replace = 1, value = \"Hurricane\")\n",
    "hurricane_data[\"label\"] = hurricane_data['label'].replace(to_replace = 0, value = \"Normal\")"
   ]
  },
  {
   "cell_type": "code",
   "execution_count": 12,
   "metadata": {
    "id": "Hawg1t8fY4e7"
   },
   "outputs": [],
   "source": [
    "michael_data[\"sentiment\"] = michael_data['sentiment'].replace(to_replace = 1, value = \"Michael\")\n",
    "michael_data[\"sentiment\"] = michael_data['sentiment'].replace(to_replace = 0, value = \"Normal\")"
   ]
  },
  {
   "cell_type": "code",
   "execution_count": 13,
   "metadata": {
    "id": "7kFglZY0ZFO3"
   },
   "outputs": [],
   "source": [
    "wildfires_data[\"label\"] = wildfires_data['label'].replace(to_replace = 1, value = \"Wildfires\")\n",
    "wildfires_data[\"label\"] = wildfires_data['label'].replace(to_replace = 0, value = \"Normal\")"
   ]
  },
  {
   "cell_type": "code",
   "execution_count": 14,
   "metadata": {
    "id": "2kXPofGFZMUl"
   },
   "outputs": [],
   "source": [
    "dorian_data[\"label\"] = dorian_data['label'].replace(to_replace = 1, value = \"Dorian\")\n",
    "dorian_data[\"label\"] = dorian_data['label'].replace(to_replace = 0, value = \"Normal\")"
   ]
  },
  {
   "cell_type": "code",
   "execution_count": 15,
   "metadata": {
    "id": "E3FHVj8VaLIS"
   },
   "outputs": [],
   "source": [
    "Data = pd.concat([tornado_data, Sandy_data, floods_data, blizzard_data, mathew_data, hurricane_data, michael_data, wildfires_data, dorian_data])"
   ]
  },
  {
   "cell_type": "code",
   "execution_count": 16,
   "metadata": {
    "colab": {
     "base_uri": "https://localhost:8080/"
    },
    "id": "B7bT4I8uanuP",
    "outputId": "cff59305-7af0-4037-adc2-d61b72945129"
   },
   "outputs": [
    {
     "data": {
      "text/plain": [
       "Normal       9565\n",
       "Dorian       5675\n",
       "Hurricane    4644\n",
       "Wildfires    4263\n",
       "Mathew       3563\n",
       "Blizzard     3341\n",
       "Floods       2711\n",
       "Tornado      2516\n",
       "Sandy        1493\n",
       "Name: label, dtype: int64"
      ]
     },
     "execution_count": 16,
     "metadata": {},
     "output_type": "execute_result"
    }
   ],
   "source": [
    "Data['label'].value_counts()"
   ]
  },
  {
   "cell_type": "code",
   "execution_count": 17,
   "metadata": {
    "id": "NSIOWr55auwd"
   },
   "outputs": [],
   "source": [
    "import matplotlib.pyplot as plt"
   ]
  },
  {
   "cell_type": "code",
   "execution_count": 18,
   "metadata": {
    "id": "dezWez_aay42"
   },
   "outputs": [],
   "source": [
    "import seaborn as sns"
   ]
  },
  {
   "cell_type": "code",
   "execution_count": 19,
   "metadata": {
    "colab": {
     "base_uri": "https://localhost:8080/",
     "height": 409
    },
    "id": "XsmwuYx9bIem",
    "outputId": "260e828d-7f2a-49c8-9645-8f2b588d3fa6"
   },
   "outputs": [
    {
     "data": {
      "text/plain": [
       "<AxesSubplot:xlabel='label', ylabel='count'>"
      ]
     },
     "execution_count": 19,
     "metadata": {},
     "output_type": "execute_result"
    },
    {
     "data": {
      "image/png": "[encoded data removed]",
      "text/plain": [
       "<Figure size 720x432 with 1 Axes>"
      ]
     },
     "metadata": {
      "needs_background": "light"
     },
     "output_type": "display_data"
    }
   ],
   "source": [
    "plt.figure(figsize=(16,6),facecolor= \"grey\")\n",
    "sns.countplot(x= Data['label'])"
   ]
  },
  {
   "cell_type": "code",
   "execution_count": 20,
   "metadata": {
    "id": "mABa7YjRbahw"
   },
   "outputs": [
    {
     "ename": "ModuleNotFoundError",
     "evalue": "No module named 'wordcloud'",
     "output_type": "error",
     "traceback": [
      "\u001b[1;31m---------------------------------------------------------------------------\u001b[0m",
      "\u001b[1;31mModuleNotFoundError\u001b[0m                       Traceback (most recent call last)",
      "\u001b[1;32m~\\AppData\\Local\\Temp/ipykernel_20460/2177550451.py\u001b[0m in \u001b[0;36m<module>\u001b[1;34m\u001b[0m\n\u001b[1;32m----> 1\u001b[1;33m \u001b[1;32mfrom\u001b[0m \u001b[0mwordcloud\u001b[0m \u001b[1;32mimport\u001b[0m \u001b[0mWordCloud\u001b[0m\u001b[1;33m,\u001b[0m \u001b[0mSTOPWORDS\u001b[0m\u001b[1;33m\u001b[0m\u001b[1;33m\u001b[0m\u001b[0m\n\u001b[0m",
      "\u001b[1;31mModuleNotFoundError\u001b[0m: No module named 'wordcloud'"
     ]
    }
   ],
   "source": [
    "from wordcloud import WordCloud, STOPWORDS"
   ]
  },
  {
   "cell_type": "code",
   "execution_count": null,
   "metadata": {
    "colab": {
     "base_uri": "https://localhost:8080/",
     "height": 206
    },
    "id": "h419gSdAdHTn",
    "outputId": "6f3c8a50-b6d3-46d6-807c-e194057a0979"
   },
   "outputs": [],
   "source": [
    "df = Data[Data['label'] != \"Normal\"]\n",
    "df.head()"
   ]
  },
  {
   "cell_type": "code",
   "execution_count": null,
   "metadata": {
    "colab": {
     "base_uri": "https://localhost:8080/",
     "height": 607
    },
    "id": "BPvMlLw8cEqc",
    "outputId": "2e03a00d-8271-4ac9-a6fb-65cfc8016e32"
   },
   "outputs": [],
   "source": [
    "#df = df['text']\n",
    "\n",
    "comment_words = ''\n",
    "stopwords = set(STOPWORDS)\n",
    " \n",
    "for val in df.text:\n",
    "     \n",
    "    val = str(val)\n",
    " \n",
    "    tokens = val.split()\n",
    "     \n",
    "    for i in range(len(tokens)):\n",
    "        tokens[i] = tokens[i].lower()\n",
    "     \n",
    "    comment_words += \" \".join(tokens)+\" \"\n",
    " \n",
    "wordcloud = WordCloud(width = 800, height = 800,\n",
    "                background_color ='white',\n",
    "                stopwords = stopwords,\n",
    "                min_font_size = 10).generate(comment_words)\n",
    " \n",
    "# plot the WordCloud image                      \n",
    "plt.figure(figsize = (8, 8), facecolor = None)\n",
    "plt.imshow(wordcloud)\n",
    "plt.axis(\"off\")\n",
    "plt.tight_layout(pad = 0)\n",
    " \n",
    "plt.show()"
   ]
  },
  {
   "cell_type": "code",
   "execution_count": null,
   "metadata": {
    "id": "Svm81GkXdizW"
   },
   "outputs": [],
   "source": [
    "import nltk\n",
    "from nltk.corpus import stopwords"
   ]
  },
  {
   "cell_type": "code",
   "execution_count": null,
   "metadata": {
    "colab": {
     "base_uri": "https://localhost:8080/",
     "height": 36
    },
    "id": "xwnCsU_eOevJ",
    "outputId": "51387e07-e4ad-449d-c3fe-b70eecf3755f"
   },
   "outputs": [],
   "source": [
    "Data['text'].iloc[3]"
   ]
  },
  {
   "cell_type": "code",
   "execution_count": null,
   "metadata": {
    "id": "Jb544eRgNqLx"
   },
   "outputs": [],
   "source": [
    "from nltk.corpus import stopwords\n",
    "from nltk.tokenize import word_tokenize\n",
    "\n",
    "temp = []\n",
    "\n",
    "for row in range(len(Data['text'])):\n",
    "\n",
    "  tokens = nltk.wordpunct_tokenize(Data['text'].iloc[row])\n",
    "  text = nltk.Text(tokens)\n",
    "  words = [wrd.lower() for wrd in text if wrd.isalpha()]\n",
    "  \n",
    "  list = ' '.join(word for word in words)\n",
    "\n",
    "  stop_words = set(stopwords.words('english'))\n",
    "  tweet = list\n",
    "  word_tokens = word_tokenize(tweet)\n",
    "  \n",
    "  filtered_sentence = [w for w in word_tokens if not w.lower() in stop_words]\n",
    "  \n",
    "  filtered_sentence = []\n",
    "  \n",
    "  for w in word_tokens:\n",
    "      if w not in stop_words:\n",
    "          filtered_sentence.append(w)\n",
    "  list2 = ' '.join(word2 for word2 in filtered_sentence)\n",
    "  temp.append(list2)\n",
    "\n",
    "Data['without_stopwords'] = temp"
   ]
  },
  {
   "cell_type": "code",
   "execution_count": null,
   "metadata": {
    "colab": {
     "base_uri": "https://localhost:8080/",
     "height": 206
    },
    "id": "CkWlI_-ZR222",
    "outputId": "0ddfe2f8-a0ac-4495-a3e5-d2e0b8747750"
   },
   "outputs": [],
   "source": [
    "Data.head()"
   ]
  },
  {
   "cell_type": "code",
   "execution_count": null,
   "metadata": {
    "colab": {
     "base_uri": "https://localhost:8080/",
     "height": 206
    },
    "id": "AwZXlQ4tUFT8",
    "outputId": "9abc77e7-5f08-43ac-e567-485814f3ffeb"
   },
   "outputs": [],
   "source": [
    "Data.drop(['Unnamed: 0', 'sentiment'], axis = 1, inplace = True)\n",
    "Data.head()"
   ]
  },
  {
   "cell_type": "code",
   "execution_count": null,
   "metadata": {
    "id": "bYR8DIzpVWwv"
   },
   "outputs": [],
   "source": [
    "from nltk.stem import PorterStemmer\n",
    "from nltk.stem import WordNetLemmatizer\n",
    "import re\n",
    "from nltk.stem.wordnet import WordNetLemmatizer\n",
    "import spacy\n",
    "import string "
   ]
  },
  {
   "cell_type": "code",
   "execution_count": null,
   "metadata": {
    "id": "hyLNrp_OaqkZ"
   },
   "outputs": [],
   "source": [
    "nlp = spacy.load('en')\n",
    "lmtzr = WordNetLemmatizer()"
   ]
  },
  {
   "cell_type": "code",
   "execution_count": null,
   "metadata": {
    "id": "5xVe0QzfiHvA"
   },
   "outputs": [],
   "source": [
    "def text_preprocess(text):\n",
    "    lm = []\n",
    "    text = nlp(text)\n",
    "    for token in text:\n",
    "        lm.append(token.lemma_)\n",
    "        \n",
    "    text = \" \".join(lm)\n",
    "    text = text.translate(str.maketrans(\"\", \"\", string.punctuation))\n",
    "    text = [word for word in text.split() if word.lower() not in stopwords.words('english')]\n",
    "    \n",
    "    return \" \".join(text)"
   ]
  },
  {
   "cell_type": "code",
   "execution_count": null,
   "metadata": {
    "id": "4w8DBeNqbvso"
   },
   "outputs": [],
   "source": [
    "Data['processed'] = Data['without_stopwords'].apply(text_preprocess)"
   ]
  },
  {
   "cell_type": "code",
   "execution_count": null,
   "metadata": {
    "colab": {
     "base_uri": "https://localhost:8080/",
     "height": 250
    },
    "id": "nHX3JQCDirVC",
    "outputId": "90dc52dc-99ff-4910-8e06-0f200398324f"
   },
   "outputs": [],
   "source": [
    "Data.head()"
   ]
  },
  {
   "cell_type": "code",
   "execution_count": null,
   "metadata": {
    "id": "k1usmQFTlPRR"
   },
   "outputs": [],
   "source": [
    "Data.to_csv(\"NLP_Data.csv\")"
   ]
  },
  {
   "cell_type": "code",
   "execution_count": null,
   "metadata": {
    "colab": {
     "base_uri": "https://localhost:8080/",
     "height": 337
    },
    "id": "PQpiOGtEniBq",
    "outputId": "2770954d-09a2-4fc2-8488-0e5d2e2320cf"
   },
   "outputs": [],
   "source": [
    "Data = pd.read_csv(\"/content/NLP_Data.csv\")\n",
    "Data.head()"
   ]
  },
  {
   "cell_type": "code",
   "execution_count": null,
   "metadata": {
    "id": "HcMSBMftJDPa"
   },
   "outputs": [],
   "source": [
    "from sklearn.preprocessing import LabelEncoder"
   ]
  },
  {
   "cell_type": "code",
   "execution_count": null,
   "metadata": {
    "id": "BgVhl0ZKJqdH"
   },
   "outputs": [],
   "source": [
    "LE = LabelEncoder()\n",
    "LE.fit(Data['label'])\n",
    "Data['Updatedlabel'] = LE.transform(Data['label'])"
   ]
  },
  {
   "cell_type": "code",
   "execution_count": null,
   "metadata": {
    "colab": {
     "base_uri": "https://localhost:8080/",
     "height": 206
    },
    "id": "ZSTQvQWoJrJ8",
    "outputId": "cf967c31-13ee-4f7b-ab7c-e4723d8ff0aa"
   },
   "outputs": [],
   "source": [
    "df = Data[['Updatedlabel', 'processed']]\n",
    "df.head()"
   ]
  },
  {
   "cell_type": "code",
   "execution_count": null,
   "metadata": {
    "id": "AvbcApbULPBa"
   },
   "outputs": [],
   "source": [
    "x = df[['processed']]\n",
    "y = df[['Updatedlabel']]"
   ]
  },
  {
   "cell_type": "code",
   "execution_count": null,
   "metadata": {
    "colab": {
     "base_uri": "https://localhost:8080/",
     "height": 424
    },
    "id": "nGU3AMtcNQQc",
    "outputId": "84eddfab-3106-464d-a968-d0ffa32ab5ef"
   },
   "outputs": [],
   "source": [
    "x"
   ]
  },
  {
   "cell_type": "code",
   "execution_count": null,
   "metadata": {
    "id": "AvNclsM0J_2N"
   },
   "outputs": [],
   "source": [
    "from imblearn.under_sampling import RandomUnderSampler"
   ]
  },
  {
   "cell_type": "code",
   "execution_count": null,
   "metadata": {
    "id": "JJiAnleNK1h-"
   },
   "outputs": [],
   "source": [
    "undersample = RandomUnderSampler(random_state=42)"
   ]
  },
  {
   "cell_type": "code",
   "execution_count": null,
   "metadata": {
    "id": "dJ4MYRd5Lbz8"
   },
   "outputs": [],
   "source": [
    "x_under, y_under = undersample.fit_resample(x, y)"
   ]
  },
  {
   "cell_type": "code",
   "execution_count": null,
   "metadata": {
    "colab": {
     "base_uri": "https://localhost:8080/",
     "height": 424
    },
    "id": "uNpCJIzAMA8W",
    "outputId": "96bb9f09-bcf7-4930-c56b-0d6651652cf8"
   },
   "outputs": [],
   "source": [
    "x_under"
   ]
  },
  {
   "cell_type": "code",
   "execution_count": null,
   "metadata": {
    "colab": {
     "base_uri": "https://localhost:8080/",
     "height": 424
    },
    "id": "U64ALHtJQhMZ",
    "outputId": "392a8393-9bcc-4272-d8ef-e68e6dbae9df"
   },
   "outputs": [],
   "source": [
    "y_under"
   ]
  },
  {
   "cell_type": "code",
   "execution_count": null,
   "metadata": {
    "id": "7FwXyOVyNplc"
   },
   "outputs": [],
   "source": [
    "from sklearn.feature_extraction.text import TfidfVectorizer \n",
    "vectorizer = TfidfVectorizer()"
   ]
  },
  {
   "cell_type": "code",
   "execution_count": null,
   "metadata": {
    "id": "-dhl71jfOQck"
   },
   "outputs": [],
   "source": [
    "processed  = vectorizer.fit_transform(x_under['processed']) "
   ]
  },
  {
   "cell_type": "code",
   "execution_count": null,
   "metadata": {
    "colab": {
     "base_uri": "https://localhost:8080/"
    },
    "id": "ruZC06AEPJaq",
    "outputId": "43b67c1e-4629-44c4-c7d3-c09f9b3618cf"
   },
   "outputs": [],
   "source": [
    "processed"
   ]
  },
  {
   "cell_type": "code",
   "execution_count": null,
   "metadata": {
    "id": "qw6G03C_O3ng"
   },
   "outputs": [],
   "source": [
    "from sklearn.model_selection import train_test_split\n",
    "\n",
    "X_train, X_test, y_train,y_test = train_test_split(processed, y_under['Updatedlabel'], test_size=0.2)"
   ]
  },
  {
   "cell_type": "code",
   "execution_count": null,
   "metadata": {
    "colab": {
     "base_uri": "https://localhost:8080/"
    },
    "id": "wnLtX-_5P6g6",
    "outputId": "1d56e6d6-6413-4281-8237-728f6ba13045"
   },
   "outputs": [],
   "source": [
    "X_train.shape, X_test.shape, y_train.shape, y_test.shape"
   ]
  },
  {
   "cell_type": "markdown",
   "metadata": {
    "id": "-29lS-CWb3fm"
   },
   "source": [
    "## Logistic Regression & MultinomialNB"
   ]
  },
  {
   "cell_type": "code",
   "execution_count": null,
   "metadata": {
    "id": "3MLStsBpPt3W"
   },
   "outputs": [],
   "source": [
    "from sklearn.linear_model import LogisticRegression\n",
    "from sklearn.naive_bayes import MultinomialNB"
   ]
  },
  {
   "cell_type": "code",
   "execution_count": null,
   "metadata": {
    "id": "1Y3B2V6ZQxX3"
   },
   "outputs": [],
   "source": [
    "Logistic_model = LogisticRegression(solver='liblinear', penalty='l1')\n",
    "MNB = MultinomialNB()"
   ]
  },
  {
   "cell_type": "code",
   "execution_count": null,
   "metadata": {
    "colab": {
     "base_uri": "https://localhost:8080/"
    },
    "id": "zoOcUI6xQ4_k",
    "outputId": "11486fcf-29f0-46aa-9623-591db1dbe743"
   },
   "outputs": [],
   "source": [
    "print(Logistic_model.fit(X_train, y_train))\n",
    "print(MNB.fit(X_train, y_train))"
   ]
  },
  {
   "cell_type": "code",
   "execution_count": null,
   "metadata": {
    "id": "JIPfIMYJQ7Qb"
   },
   "outputs": [],
   "source": [
    "from sklearn.metrics import confusion_matrix, accuracy_score\n",
    "\n",
    "def conf_matrix_acc(y_true, y_pred):\n",
    "    print(f'Confusion matrix\\n:{confusion_matrix(y_true, y_pred)}\\n')\n",
    "    print(f'Accuracy score is : {accuracy_score(y_true, y_pred)}')"
   ]
  },
  {
   "cell_type": "code",
   "execution_count": null,
   "metadata": {
    "id": "kwYYmB7wREK9"
   },
   "outputs": [],
   "source": [
    "y_pred_lr = Logistic_model.predict(X_test)\n",
    "y_pred_mnb = MNB.predict(X_test)"
   ]
  },
  {
   "cell_type": "code",
   "execution_count": null,
   "metadata": {
    "colab": {
     "base_uri": "https://localhost:8080/"
    },
    "id": "aBEZbnARRJeM",
    "outputId": "09444f62-0d37-48c5-f4e4-b7bc0086c85d"
   },
   "outputs": [],
   "source": [
    "conf_matrix_acc(y_test,y_pred_lr )\n",
    "conf_matrix_acc(y_test, y_pred_mnb)"
   ]
  },
  {
   "cell_type": "markdown",
   "metadata": {
    "id": "Agyn8R7Vbviz"
   },
   "source": [
    "## Neural Network"
   ]
  },
  {
   "cell_type": "code",
   "execution_count": null,
   "metadata": {
    "id": "3P2UFiDFRL92"
   },
   "outputs": [],
   "source": [
    "import tensorflow as tf"
   ]
  },
  {
   "cell_type": "code",
   "execution_count": null,
   "metadata": {
    "id": "o0GDjxYyTIqu"
   },
   "outputs": [],
   "source": [
    "X_arr = X_train.toarray()"
   ]
  },
  {
   "cell_type": "code",
   "execution_count": null,
   "metadata": {
    "id": "weR7Z_SPRltH"
   },
   "outputs": [],
   "source": [
    "NN = tf.keras.Sequential([\n",
    "  tf.keras.layers.Dense(16, input_shape = (18296,), activation = 'relu'),\n",
    "  tf.keras.layers.Dropout(0.2),\n",
    "  tf.keras.layers.Dense(32, activation = 'relu'),\n",
    "  tf.keras.layers.Dropout(0.2),\n",
    "  #tf.keras.layers.Dense(64, activation = 'relu'),\n",
    "  #tf.keras.layers.Dropout(0.2),\n",
    "  tf.keras.layers.Dense(10, activation = 'softmax')\n",
    "])"
   ]
  },
  {
   "cell_type": "code",
   "execution_count": null,
   "metadata": {
    "id": "BlP3uVs3SAlt"
   },
   "outputs": [],
   "source": [
    "NN.compile(optimizer = 'Adam',\n",
    "        loss = tf.keras.losses.SparseCategoricalCrossentropy(),\n",
    "        metrics = ['accuracy'])"
   ]
  },
  {
   "cell_type": "code",
   "execution_count": null,
   "metadata": {
    "colab": {
     "base_uri": "https://localhost:8080/"
    },
    "id": "j5iZIJNfSTay",
    "outputId": "e192cd73-6fdf-43da-fe96-87979f8b09ca"
   },
   "outputs": [],
   "source": [
    "NN.fit(X_arr, y_train, epochs = 13)"
   ]
  },
  {
   "cell_type": "code",
   "execution_count": null,
   "metadata": {
    "id": "3DWK_r21UQbI"
   },
   "outputs": [],
   "source": [
    "X_test_arr = X_test.toarray()"
   ]
  },
  {
   "cell_type": "code",
   "execution_count": null,
   "metadata": {
    "colab": {
     "base_uri": "https://localhost:8080/"
    },
    "id": "nLLGeyQDSdFq",
    "outputId": "40523625-6500-4a8c-fb1b-a207c3f6bd23"
   },
   "outputs": [],
   "source": [
    "NN.evaluate(X_test_arr, y_test)"
   ]
  },
  {
   "cell_type": "markdown",
   "metadata": {
    "id": "c-82S3lDbrW0"
   },
   "source": [
    "## PassiveAggressiveClassifier"
   ]
  },
  {
   "cell_type": "code",
   "execution_count": null,
   "metadata": {
    "id": "L5YjQRUvamfe"
   },
   "outputs": [],
   "source": [
    "from sklearn.linear_model import PassiveAggressiveClassifier\n",
    "linear_clf = PassiveAggressiveClassifier()"
   ]
  },
  {
   "cell_type": "code",
   "execution_count": null,
   "metadata": {
    "colab": {
     "base_uri": "https://localhost:8080/"
    },
    "id": "ONWXSkYKbBdC",
    "outputId": "8452b597-54bb-4ea4-d495-7c0e5a68b3fd"
   },
   "outputs": [],
   "source": [
    "linear_clf.fit(X_train, y_train)"
   ]
  },
  {
   "cell_type": "code",
   "execution_count": null,
   "metadata": {
    "colab": {
     "base_uri": "https://localhost:8080/"
    },
    "id": "3Kaeo9XvbjBQ",
    "outputId": "94185e91-187f-47aa-d533-19de895249c4"
   },
   "outputs": [],
   "source": [
    "linear_clf.score(X_train, y_train)"
   ]
  },
  {
   "cell_type": "code",
   "execution_count": null,
   "metadata": {
    "id": "Vx290isBbLHg"
   },
   "outputs": [],
   "source": [
    "y_pred=linear_clf.predict(X_test)"
   ]
  },
  {
   "cell_type": "code",
   "execution_count": null,
   "metadata": {
    "colab": {
     "base_uri": "https://localhost:8080/"
    },
    "id": "RYoJXhz_bOIH",
    "outputId": "c544efa3-bd5e-4d2f-88eb-e1a76bc9cdc7"
   },
   "outputs": [],
   "source": [
    "#Test data accuracy\n",
    "from sklearn.metrics import accuracy_score,classification_report\n",
    "accuracy_score(y_test,y_pred)"
   ]
  },
  {
   "cell_type": "markdown",
   "metadata": {
    "id": "TMASSDz4hB1c"
   },
   "source": [
    "## Conclusion\n",
    "\n",
    "We have used Logistic Regression, MultinomialNB, Neural Network and PassiveAggressiveClassifier based on the evaluation of these models we can say that PassiveAggressiveClassifier and Logistic Regression gives better accuracy on test data as compared to other two models."
   ]
  },
  {
   "cell_type": "code",
   "execution_count": null,
   "metadata": {
    "id": "4BmipqSAhnTf"
   },
   "outputs": [],
   "source": []
  }
 ],
 "metadata": {
  "colab": {
   "name": "Lumineers_NLP_Solution(SIT).ipynb",
   "provenance": []
  },
  "kernelspec": {
   "display_name": "Python 3 (ipykernel)",
   "language": "python",
   "name": "python3"
  },
  "language_info": {
   "codemirror_mode": {
    "name": "ipython",
    "version": 3
   },
   "file_extension": ".py",
   "mimetype": "text/x-python",
   "name": "python",
   "nbconvert_exporter": "python",
   "pygments_lexer": "ipython3",
   "version": "3.9.7"
  }
 },
 "nbformat": 4,
 "nbformat_minor": 1
}
